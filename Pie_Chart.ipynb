{
  "nbformat": 4,
  "nbformat_minor": 0,
  "metadata": {
    "colab": {
      "private_outputs": true,
      "provenance": [],
      "authorship_tag": "ABX9TyP3xxN3rq3fjPNZPLl6Ng5p",
      "include_colab_link": true
    },
    "kernelspec": {
      "name": "python3",
      "display_name": "Python 3"
    },
    "language_info": {
      "name": "python"
    }
  },
  "cells": [
    {
      "cell_type": "markdown",
      "metadata": {
        "id": "view-in-github",
        "colab_type": "text"
      },
      "source": [
        "<a href=\"https://colab.research.google.com/github/ced-sys/.py/blob/main/Pie_Chart.ipynb\" target=\"_parent\"><img src=\"https://colab.research.google.com/assets/colab-badge.svg\" alt=\"Open In Colab\"/></a>"
      ]
    },
    {
      "cell_type": "code",
      "source": [
        "# --- Step 1: Import libraries ---\n",
        "import pandas as pd\n",
        "import matplotlib.pyplot as plt\n",
        "\n",
        "# --- Step 2: Define the dataset ---\n",
        "data = {\n",
        "    \"Element\": [\n",
        "        \"MgO\", \"Al2O3\", \"SiO2\", \"P2O5\", \"S\", \"Cl\", \"K2O\", \"CaO\", \"Ti\", \"V\", \"Cr\", \"Mn\", \"Fe\", \"Co\",\n",
        "        \"Ni\", \"Cu\", \"Zn\", \"As\", \"Se\", \"Rb\", \"Sr\", \"Y\", \"Zr\", \"Nb\", \"Mo\", \"Ag\", \"Cd\", \"Sn\", \"Sb\",\n",
        "        \"Ba\", \"La\", \"Hf\", \"Ta\", \"W\", \"Pt\", \"Au\", \"Hg\", \"Tl\", \"Pb\", \"Bi\", \"Th\", \"U\"\n",
        "    ],\n",
        "    \"Min\": [0]*42,\n",
        "    \"%\": [\n",
        "        1.481, 12.151, 75.729, 0.019, 0.235, 0.156, 7.293, 1.014, 0.090, 0.003, 0.000, 0.000,\n",
        "        0.647, 0.000, 0.000, 0.003, 0.004, 0.001, 0.000, 0.024, 0.046, 0.001, 0.011, 0.001,\n",
        "        0.001, 0.000, 0.000, 0.000, 0.000, 0.086, 0.000, 0.002, 0.000, 0.000, 0.000, 0.000,\n",
        "        0.000, 0.000, 0.000, 0.002, 0.000, 0.000\n",
        "    ],\n",
        "    \"Max\": [0]*42,\n",
        "    \"+/-\": [\n",
        "        1.686, 0.641, 0.982, 0.049, 0.029, 0.026, 0.069, 0.029, 0.007, 0.003, 0.003, 0.007,\n",
        "        0.021, 0.001, 0.002, 0.001, 0.001, 0.001, 0.001, 0.001, 0.002, 0.001, 0.001, 0.001,\n",
        "        0.001, 0.002, 0.004, 0.021, 0.005, 0.032, 0.051, 0.005, 0.002, 0.001, 0.002, 0.002,\n",
        "        0.001, 0.001, 0.003, 0.003, 0.004, 0.008\n",
        "    ]\n",
        "}\n",
        "\n",
        "# --- Step 3: Create a DataFrame ---\n",
        "df = pd.DataFrame(data)\n",
        "\n",
        "# --- Step 4: Save to CSV ---\n",
        "csv_path = \"geochemical_composition.csv\"\n",
        "df.to_csv(csv_path, index=False)\n",
        "print(f\"CSV saved to: {csv_path}\")\n",
        "print(f\"\\nDataset Summary:\")\n",
        "print(f\"Total elements: {len(df)}\")\n",
        "print(f\"Total composition: {df['%'].sum():.3f}%\")\n",
        "\n",
        "# --- Step 5: Plot pie charts with legends ---\n",
        "# Create figure with two subplots and extra space for legends\n",
        "fig, (ax1, ax2) = plt.subplots(1, 2, figsize=(18, 8))\n",
        "\n",
        "# Define more distinct color schemes using colorblind-friendly palettes\n",
        "major_colors = ['#1f77b4', '#ff7f0e', '#2ca02c', '#d62728', '#9467bd', '#8c564b', '#e377c2', '#7f7f7f']\n",
        "minor_colors = ['#bcbd22', '#17becf', '#aec7e8', '#ffbb78', '#98df8a', '#ff9896', '#c5b0d5', '#c49c94',\n",
        "                '#f7b6d2', '#c7c7c7', '#dbdb8d', '#9edae5']\n",
        "\n",
        "# Pie chart 1: Major elements (>=1%)\n",
        "df_major = df[df[\"%\"] >= 1.0].copy()\n",
        "wedges1, texts1, autotexts1 = ax1.pie(\n",
        "    df_major[\"%\"],\n",
        "    autopct='%1.2f%%',\n",
        "    startangle=140,\n",
        "    colors=major_colors[:len(df_major)],\n",
        "    textprops={'fontsize': 10, 'weight': 'bold'}\n",
        ")\n",
        "ax1.set_title(\"Major Elements (≥1%)\", fontsize=14, fontweight='bold', pad=20)\n",
        "\n",
        "# Add legend for major elements\n",
        "legend_labels1 = [f\"{elem} ({val:.2f}%)\" for elem, val in zip(df_major[\"Element\"], df_major[\"%\"])]\n",
        "ax1.legend(wedges1, legend_labels1, title=\"Elements\", loc=\"center left\",\n",
        "          bbox_to_anchor=(1, 0, 0.5, 1), fontsize=10, frameon=True)\n",
        "\n",
        "# Pie chart 2: Minor elements (0.01% to 1%)\n",
        "df_minor = df[(df[\"%\"] > 0.01) & (df[\"%\"] < 1.0)].copy()\n",
        "wedges2, texts2, autotexts2 = ax2.pie(\n",
        "    df_minor[\"%\"],\n",
        "    autopct='%1.3f%%',\n",
        "    startangle=140,\n",
        "    colors=minor_colors[:len(df_minor)],\n",
        "    textprops={'fontsize': 8, 'weight': 'bold'}\n",
        ")\n",
        "ax2.set_title(\"Minor Elements (0.01% - 1%)\", fontsize=14, fontweight='bold', pad=20)\n",
        "\n",
        "# Add legend for minor elements\n",
        "legend_labels2 = [f\"{elem} ({val:.3f}%)\" for elem, val in zip(df_minor[\"Element\"], df_minor[\"%\"])]\n",
        "ax2.legend(wedges2, legend_labels2, title=\"Elements\", loc=\"center left\",\n",
        "          bbox_to_anchor=(1, 0, 0.5, 1), fontsize=9, frameon=True)\n",
        "\n",
        "plt.tight_layout()\n",
        "plt.show()"
      ],
      "metadata": {
        "id": "HrFMdA6HiBnf"
      },
      "execution_count": null,
      "outputs": []
    }
  ]
}