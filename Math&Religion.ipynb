{
  "nbformat": 4,
  "nbformat_minor": 0,
  "metadata": {
    "colab": {
      "private_outputs": true,
      "provenance": [],
      "authorship_tag": "ABX9TyNURV0AS3VUlTAw6NHAwC5u",
      "include_colab_link": true
    },
    "kernelspec": {
      "name": "python3",
      "display_name": "Python 3"
    },
    "language_info": {
      "name": "python"
    }
  },
  "cells": [
    {
      "cell_type": "markdown",
      "metadata": {
        "id": "view-in-github",
        "colab_type": "text"
      },
      "source": [
        "<a href=\"https://colab.research.google.com/github/ced-sys/.py/blob/main/Math%26Religion.ipynb\" target=\"_parent\"><img src=\"https://colab.research.google.com/assets/colab-badge.svg\" alt=\"Open In Colab\"/></a>"
      ]
    },
    {
      "cell_type": "code",
      "execution_count": null,
      "metadata": {
        "id": "gYKrSRyk6mIn"
      },
      "outputs": [],
      "source": [
        "!pip install numpy matplotlib scipy librosa soundfile"
      ]
    },
    {
      "cell_type": "code",
      "source": [
        "import numpy as np\n",
        "import matplotlib.pyplot as plt\n",
        "from scipy.ndimage import sobel, gaussian_filter\n",
        "from scipy.signal import hilbert\n",
        "import librosa\n",
        "import soundfile as sf\n",
        "import IPython.display as ipd\n",
        "from typing import Callable, Tuple, Optional"
      ],
      "metadata": {
        "id": "MFTd_BBG9juL"
      },
      "execution_count": null,
      "outputs": []
    },
    {
      "cell_type": "code",
      "source": [
        "def generate_sacred_pattern(func: Callable, xlim=(-5, 5), ylim=(-5, 5), resolution=800):\n",
        "  \"\"\"Generate high-resolution sacred geometry patterns with improved sampling\"\"\"\n",
        "  x=np.linspace(*xlim, resolution)\n",
        "  y=np.linspace(*ylim, resolution)\n",
        "  X, Y=np.meshgrid(x, y)\n",
        "  Z=func(X, Y)\n",
        "\n",
        "  #Normalize and enhance contrast\n",
        "  Z=(Z-Z.min())/ (Z.max()-Z.min())\n",
        "  Z=np.power(Z, 0.7) # Gamma correction for better visual contrast\n",
        "\n",
        "  return X, Y, Z"
      ],
      "metadata": {
        "id": "3JJYT1eS9-fR"
      },
      "execution_count": null,
      "outputs": []
    },
    {
      "cell_type": "code",
      "source": [
        "def mandala_spiral(X, Y):\n",
        "  \"\"\"Spiral mandal pattern\"\"\"\n",
        "  r=np.sqrt(X**2+Y**2)\n",
        "  theta=np.arctan2(Y, X)\n",
        "  return np.sin(8*theta+2*r)*np.exp(-r/3)*np.cos(r**2/4)"
      ],
      "metadata": {
        "id": "QuiLgV9B-9lk"
      },
      "execution_count": null,
      "outputs": []
    },
    {
      "cell_type": "code",
      "source": [
        "def flower_of_life(X, Y):\n",
        "  \"\"\"Flower of Life inspire pattern\"\"\"\n",
        "  pattern=np.zeros_like(X)\n",
        "  centers=[(0, 0), (1, 0), (-1, 0), (0.5, 0.866), (-0.5, 0.866), (0.5, -0.866), (-0.5, -0.866)]\n",
        "  for cx, cy in centers:\n",
        "    r=np.sqrt((X-cx)**2+ (Y-cy)**2)\n",
        "    pattern+=np.sin(2*np.pi*r)*np.exp(-r**2/2)\n",
        "\n",
        "    return pattern"
      ],
      "metadata": {
        "id": "n548DVRM_bND"
      },
      "execution_count": null,
      "outputs": []
    },
    {
      "cell_type": "code",
      "source": [
        "def golden_ratio_spiral(X, Y):\n",
        "  \"\"\"Golden ratio spiral pattern\"\"\"\n",
        "  pi=(1+np.sqrt(5))/2\n",
        "  r=np.sqrt(X**2 + Y**2)\n",
        "  theta=np.arctan2(Y, X)\n",
        "  return np.sin(phi*theta+r)*np.cos(r/phi)*np.axp(-r/5)\n",
        ""
      ],
      "metadata": {
        "id": "jeqqju1xAGFx"
      },
      "execution_count": null,
      "outputs": []
    },
    {
      "cell_type": "code",
      "source": [
        "def sri_yantra(X, Y):\n",
        "  \"\"\"Sri Yantra inspired traingular pattern\"\"\"\n",
        "  triangles=[]\n",
        "  for i in range(9):\n",
        "    angle=i*2*np.pi/9\n",
        "    scale=1+0.1*i\n",
        "    rx=X*np.cos(angle)-Y*np.sin(angle)\n",
        "    ry=X*np.sin(angle)+Y*np.cos(angle)\n",
        "    triangles.append(np.sin(scale*(rx+ry))*np.cos(scale*(rx-ry)))\n",
        "  return sum(triangles)/len(triangles)\n"
      ],
      "metadata": {
        "id": "9R9APmNaPA0D"
      },
      "execution_count": null,
      "outputs": []
    },
    {
      "cell_type": "code",
      "source": [],
      "metadata": {
        "id": "WS-KCXJePwuI"
      },
      "execution_count": null,
      "outputs": []
    }
  ]
}