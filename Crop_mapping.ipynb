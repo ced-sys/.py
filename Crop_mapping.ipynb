{
  "nbformat": 4,
  "nbformat_minor": 0,
  "metadata": {
    "colab": {
      "private_outputs": true,
      "provenance": [],
      "mount_file_id": "1UzrddcOVagZrMAjAgEFMeJWB3xwDfE8g",
      "authorship_tag": "ABX9TyMYKK79xbHKnxxt+Oed6fyC",
      "include_colab_link": true
    },
    "kernelspec": {
      "name": "python3",
      "display_name": "Python 3"
    },
    "language_info": {
      "name": "python"
    }
  },
  "cells": [
    {
      "cell_type": "markdown",
      "metadata": {
        "id": "view-in-github",
        "colab_type": "text"
      },
      "source": [
        "<a href=\"https://colab.research.google.com/github/ced-sys/.py/blob/main/Crop_mapping.ipynb\" target=\"_parent\"><img src=\"https://colab.research.google.com/assets/colab-badge.svg\" alt=\"Open In Colab\"/></a>"
      ]
    },
    {
      "cell_type": "code",
      "execution_count": null,
      "metadata": {
        "id": "28dgh-gnHW9O"
      },
      "outputs": [],
      "source": [
        "import numpy as np\n",
        "import pandas as pd\n",
        "import matplotlib.pyplot as plt\n",
        "import seaborn as sns\n",
        "from sklearn.ensemble import RandomForestClassifier\n",
        "from sklearn.model_selection import cross_val_score, StratifiedKFold\n",
        "from sklearn.metrics import accuracy_score, classification_report, confusion_matrix\n",
        "import os\n",
        "import warnings\n",
        "warnings.filterwarnings('ignore')"
      ]
    },
    {
      "cell_type": "code",
      "source": [
        "plt.style.use('seaborn-v0_8')\n",
        "sns.set_palette(\"husl\")"
      ],
      "metadata": {
        "id": "yP45ykTLJy8G"
      },
      "execution_count": null,
      "outputs": []
    },
    {
      "cell_type": "code",
      "source": [
        "from google.colab import drive\n",
        "drive.mount('/content/drive', force_remount=True)"
      ],
      "metadata": {
        "id": "K3Agi_o_J_wO"
      },
      "execution_count": null,
      "outputs": []
    },
    {
      "cell_type": "code",
      "source": [
        "base_path='/content/drive/MyDrive/cropland-mapping'\n",
        "folders=['data', 'notebooks', 'submissions', 'src']"
      ],
      "metadata": {
        "id": "inxSFVjXKIrR"
      },
      "execution_count": null,
      "outputs": []
    },
    {
      "cell_type": "code",
      "source": [
        "print(\"Setting up project structure...\")\n",
        "for folder in folders:\n",
        "  folder_path=os.path.join(base_path, folder)\n",
        "  os.makedirs(folder_path, exist_ok=True)\n",
        "  print(f\"Created: {folder_path}\")"
      ],
      "metadata": {
        "id": "w9rLk6N2KogJ"
      },
      "execution_count": null,
      "outputs": []
    },
    {
      "cell_type": "code",
      "source": [
        "zindi_path='/content/drive/MyDrive/Zindi Hackathons'\n",
        "if os.path.exists(zindi_path):\n",
        "  print(f\"Found zindi hackathons folder at : {zindi_path}\")\n",
        "  print(\"Contents:\")\n",
        "  for item in os.listdir(zindi_path):\n",
        "    print(f\" -{item}\")\n",
        "else:\n",
        "  print(\"Zindi Hackathons folder not found. Please check the path\")"
      ],
      "metadata": {
        "id": "32QXWsT2K-Rl"
      },
      "execution_count": null,
      "outputs": []
    },
    {
      "cell_type": "code",
      "source": [],
      "metadata": {
        "id": "5FQyLM71Ll9o"
      },
      "execution_count": null,
      "outputs": []
    }
  ]
}