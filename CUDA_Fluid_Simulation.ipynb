{
  "nbformat": 4,
  "nbformat_minor": 0,
  "metadata": {
    "colab": {
      "provenance": [],
      "gpuType": "L4",
      "authorship_tag": "ABX9TyNEJcmGP9v9Jeb2NXRnyIs9",
      "include_colab_link": true
    },
    "kernelspec": {
      "name": "python3",
      "display_name": "Python 3"
    },
    "language_info": {
      "name": "python"
    },
    "accelerator": "GPU"
  },
  "cells": [
    {
      "cell_type": "markdown",
      "metadata": {
        "id": "view-in-github",
        "colab_type": "text"
      },
      "source": [
        "<a href=\"https://colab.research.google.com/github/ced-sys/.py/blob/main/CUDA_Fluid_Simulation.ipynb\" target=\"_parent\"><img src=\"https://colab.research.google.com/assets/colab-badge.svg\" alt=\"Open In Colab\"/></a>"
      ]
    },
    {
      "cell_type": "code",
      "execution_count": 1,
      "metadata": {
        "colab": {
          "base_uri": "https://localhost:8080/"
        },
        "id": "aXycm43LHnzQ",
        "outputId": "fdcc8354-4f54-4b2d-d31b-fa0939f7cfb0"
      },
      "outputs": [
        {
          "output_type": "stream",
          "name": "stdout",
          "text": [
            "Sat Oct 25 06:48:27 2025       \n",
            "+-----------------------------------------------------------------------------------------+\n",
            "| NVIDIA-SMI 550.54.15              Driver Version: 550.54.15      CUDA Version: 12.4     |\n",
            "|-----------------------------------------+------------------------+----------------------+\n",
            "| GPU  Name                 Persistence-M | Bus-Id          Disp.A | Volatile Uncorr. ECC |\n",
            "| Fan  Temp   Perf          Pwr:Usage/Cap |           Memory-Usage | GPU-Util  Compute M. |\n",
            "|                                         |                        |               MIG M. |\n",
            "|=========================================+========================+======================|\n",
            "|   0  NVIDIA L4                      Off |   00000000:00:03.0 Off |                    0 |\n",
            "| N/A   38C    P8             12W /   72W |       0MiB /  23034MiB |      0%      Default |\n",
            "|                                         |                        |                  N/A |\n",
            "+-----------------------------------------+------------------------+----------------------+\n",
            "                                                                                         \n",
            "+-----------------------------------------------------------------------------------------+\n",
            "| Processes:                                                                              |\n",
            "|  GPU   GI   CI        PID   Type   Process name                              GPU Memory |\n",
            "|        ID   ID                                                               Usage      |\n",
            "|=========================================================================================|\n",
            "|  No running processes found                                                             |\n",
            "+-----------------------------------------------------------------------------------------+\n"
          ]
        }
      ],
      "source": [
        "!nvidia-smi"
      ]
    },
    {
      "cell_type": "code",
      "source": [
        "!pip install pycuda pillow numpy matplotlib"
      ],
      "metadata": {
        "colab": {
          "base_uri": "https://localhost:8080/"
        },
        "id": "BYjrvNW5Hs6p",
        "outputId": "fef0bc7b-e67a-4181-f708-238cd144db51"
      },
      "execution_count": 2,
      "outputs": [
        {
          "output_type": "stream",
          "name": "stdout",
          "text": [
            "Collecting pycuda\n",
            "  Downloading pycuda-2025.1.2.tar.gz (1.7 MB)\n",
            "\u001b[?25l     \u001b[90m━━━━━━━━━━━━━━━━━━━━━━━━━━━━━━━━━━━━━━━━\u001b[0m \u001b[32m0.0/1.7 MB\u001b[0m \u001b[31m?\u001b[0m eta \u001b[36m-:--:--\u001b[0m\r\u001b[2K     \u001b[90m━━━━━━━━━━━━━━━━━━━━━━━━━━━━━━━━━━━━━━━━\u001b[0m \u001b[32m1.7/1.7 MB\u001b[0m \u001b[31m78.8 MB/s\u001b[0m eta \u001b[36m0:00:00\u001b[0m\n",
            "\u001b[?25h  Installing build dependencies ... \u001b[?25l\u001b[?25hdone\n",
            "  Getting requirements to build wheel ... \u001b[?25l\u001b[?25hdone\n",
            "  Preparing metadata (pyproject.toml) ... \u001b[?25l\u001b[?25hdone\n",
            "Requirement already satisfied: pillow in /usr/local/lib/python3.12/dist-packages (11.3.0)\n",
            "Requirement already satisfied: numpy in /usr/local/lib/python3.12/dist-packages (2.0.2)\n",
            "Requirement already satisfied: matplotlib in /usr/local/lib/python3.12/dist-packages (3.10.0)\n",
            "Collecting pytools>=2011.2 (from pycuda)\n",
            "  Downloading pytools-2025.2.5-py3-none-any.whl.metadata (2.9 kB)\n",
            "Requirement already satisfied: platformdirs>=2.2.0 in /usr/local/lib/python3.12/dist-packages (from pycuda) (4.5.0)\n",
            "Requirement already satisfied: mako in /usr/local/lib/python3.12/dist-packages (from pycuda) (1.3.10)\n",
            "Requirement already satisfied: contourpy>=1.0.1 in /usr/local/lib/python3.12/dist-packages (from matplotlib) (1.3.3)\n",
            "Requirement already satisfied: cycler>=0.10 in /usr/local/lib/python3.12/dist-packages (from matplotlib) (0.12.1)\n",
            "Requirement already satisfied: fonttools>=4.22.0 in /usr/local/lib/python3.12/dist-packages (from matplotlib) (4.60.1)\n",
            "Requirement already satisfied: kiwisolver>=1.3.1 in /usr/local/lib/python3.12/dist-packages (from matplotlib) (1.4.9)\n",
            "Requirement already satisfied: packaging>=20.0 in /usr/local/lib/python3.12/dist-packages (from matplotlib) (25.0)\n",
            "Requirement already satisfied: pyparsing>=2.3.1 in /usr/local/lib/python3.12/dist-packages (from matplotlib) (3.2.5)\n",
            "Requirement already satisfied: python-dateutil>=2.7 in /usr/local/lib/python3.12/dist-packages (from matplotlib) (2.9.0.post0)\n",
            "Requirement already satisfied: six>=1.5 in /usr/local/lib/python3.12/dist-packages (from python-dateutil>=2.7->matplotlib) (1.17.0)\n",
            "Collecting siphash24>=1.6 (from pytools>=2011.2->pycuda)\n",
            "  Downloading siphash24-1.8-cp312-cp312-manylinux2014_x86_64.manylinux_2_17_x86_64.manylinux_2_28_x86_64.whl.metadata (3.2 kB)\n",
            "Requirement already satisfied: typing-extensions>=4.5 in /usr/local/lib/python3.12/dist-packages (from pytools>=2011.2->pycuda) (4.15.0)\n",
            "Requirement already satisfied: MarkupSafe>=0.9.2 in /usr/local/lib/python3.12/dist-packages (from mako->pycuda) (3.0.3)\n",
            "Downloading pytools-2025.2.5-py3-none-any.whl (98 kB)\n",
            "\u001b[2K   \u001b[90m━━━━━━━━━━━━━━━━━━━━━━━━━━━━━━━━━━━━━━━━\u001b[0m \u001b[32m98.8/98.8 kB\u001b[0m \u001b[31m13.2 MB/s\u001b[0m eta \u001b[36m0:00:00\u001b[0m\n",
            "\u001b[?25hDownloading siphash24-1.8-cp312-cp312-manylinux2014_x86_64.manylinux_2_17_x86_64.manylinux_2_28_x86_64.whl (103 kB)\n",
            "\u001b[2K   \u001b[90m━━━━━━━━━━━━━━━━━━━━━━━━━━━━━━━━━━━━━━━━\u001b[0m \u001b[32m103.2/103.2 kB\u001b[0m \u001b[31m10.1 MB/s\u001b[0m eta \u001b[36m0:00:00\u001b[0m\n",
            "\u001b[?25hBuilding wheels for collected packages: pycuda\n",
            "  Building wheel for pycuda (pyproject.toml) ... \u001b[?25l\u001b[?25hdone\n",
            "  Created wheel for pycuda: filename=pycuda-2025.1.2-cp312-cp312-linux_x86_64.whl size=659050 sha256=8eae3274f9f55974a1bd2cb130836ffefa117c33768840228f8e2504cbf4a075\n",
            "  Stored in directory: /root/.cache/pip/wheels/d5/36/f3/ac5f09d768cad3fa15d5a3449bdfe65c3de58e69d036c73228\n",
            "Successfully built pycuda\n",
            "Installing collected packages: siphash24, pytools, pycuda\n",
            "Successfully installed pycuda-2025.1.2 pytools-2025.2.5 siphash24-1.8\n"
          ]
        }
      ]
    },
    {
      "cell_type": "code",
      "source": [
        "import pycuda.driver as cuda\n",
        "import pycuda.autoinit\n",
        "from pycuda.compiler import SourceModule\n",
        "import numpy as np\n",
        "import matplotlib.pyplot as plt\n",
        "from matplotlib.animation import FuncAnimation\n",
        "from IPython.display import HTML\n",
        "import time"
      ],
      "metadata": {
        "id": "zTVq4aV7IU03"
      },
      "execution_count": 3,
      "outputs": []
    },
    {
      "cell_type": "code",
      "source": [
        "WIDTH=256\n",
        "HEIGHT=256\n",
        "DT=0.1\n",
        "DIFFUSION=0.0001\n",
        "VISCOSITY=0.0001\n",
        "\n",
        "print(f\"Creating a {WIDTH}x{HEIGHT} smoke simulation...\")\n",
        "print(f\"Total pixels to simulate: {WIDTH*HEIGHT}\")"
      ],
      "metadata": {
        "colab": {
          "base_uri": "https://localhost:8080/"
        },
        "id": "Jnnti-y1JQyS",
        "outputId": "77d20309-6f61-417a-c741-5db2806a44b4"
      },
      "execution_count": 4,
      "outputs": [
        {
          "output_type": "stream",
          "name": "stdout",
          "text": [
            "Creating a 256x256 smoke simulation...\n",
            "Total pixels to simulate: 65536\n"
          ]
        }
      ]
    },
    {
      "cell_type": "code",
      "source": [
        "cuda_code=\"\"\"\n",
        "//Add smoke density at a location\n",
        "__global__ void add_source(float *field, float*source, int size, float dt){\n",
        "  int idx=blockIdx.x * blockDim.x+threadIdx.x;\n",
        "  if (idx < size){\n",
        "    field[idx]+=dt*source[idx];\n",
        "  }\n",
        "}\n",
        "\n",
        "//Advection: Move smoke based on velocity\n",
        "__global__ void advect(float *d, float *d0, float *u, float *v, int width, int height, float dt){\n",
        "  int x=blockIdx.x * blockDim.x+threadIdx.x;\n",
        "  int y=blockIdx.y* blockDim.y+threadIdx.y;\n",
        "\n",
        "  if (x>=width || y>= height) return;\n",
        "\n",
        "  int idx=y*width+x;\n",
        "\n",
        "  //Trace back in time to find where this smoke came from\n",
        "  float x_prev=x-dt*u[idx];\n",
        "  float y_prev=y-dt*v[idx];\n",
        "\n",
        "  //Clamp to grid boundaries\n",
        "  if (x_prev <0.5f) x_prev=0.5f;\n",
        "  if (x_prev > width-1.5f) x_prev=width-1.5f;\n",
        "  if (y_prev<0.5f) y_prev=0.5f;\n",
        "  if (y_prev>height-1.5f) y_prev=height-1.5f;\n",
        "\n",
        "  //Bilinear interpolation (smooth sampling between grid points)\n",
        "  int i0=(int)x_prev;\n",
        "  int i1=i0+1;\n",
        "  int j0=(int)y_prev;\n",
        "  int j1=j0+1;\n",
        "\n",
        "  float s1=x_prev-i0;\n",
        "  float s0=1.0f-s1;\n",
        "  float t1=y_prev-j0;\n",
        "  float t0=1.0f-t1;\n",
        "\n",
        "  //Weighted average of 4 nearby points\n",
        "  d[idx]=s0*(t0*d0[j0*width+i0]+t1*d0[j1*width+i0])+s1*(t0*d0[j0*width+i1]+t1*d0[j1*width+i1]);\n",
        "}\n",
        "\n",
        "//Diffusion: Make smoke spread out smoothly (Jacobi iteration)\n",
        "__global__ void diffuse(float *x, float *x0, float diff, float dt, int width, int height){\n",
        "  int i=blockIdx.x*blockDim.x+threadIdx.x;\n",
        "  int j=blockIdx.y*blockDim.y+threadIdx.y;\n",
        "\n",
        "  if (i>=width|| j>=height) return;\n",
        "  if(i==0 || i==width-1 || j==0 || j==height-1) return;\n",
        "\n",
        "  int idx=j*width+i;\n",
        "  float a=dt*diff*width*height;\n",
        "\n",
        "  //Average with neighbours, weighted by diffusion\n",
        "  x[idx]=(x0[idx]+a*(x[idx-1]+x[idx+1]+ x[idx-width]+x[idx+width]))/(1+4*a);\n",
        "}\n",
        "\n",
        "//Fade out smoke over time\n",
        "__global__ void fade(float *field, int size, float fade_rate){\n",
        "  int idx=blockIdx.x*blockDim.x+threadIdx.x;\n",
        "  if (idx<size){\n",
        "    field[idx]*= fade_rate;\n",
        "  }\n",
        "}\n",
        "\"\"\"\n",
        "\n",
        "mod=SourceModule(cuda_code)\n",
        "\n",
        "#Get references to our kernels\n",
        "add_source_kernel=mod.get_function(\"add_source\")\n",
        "advect_kernel=mod.get_function(\"advect\")\n",
        "diffuse_kernel=mod.get_function(\"diffuse\")\n",
        "fade_kernel=mod.get_function(\"fade\")\n",
        "\n",
        "print('Kernels compiled successfully!')"
      ],
      "metadata": {
        "colab": {
          "base_uri": "https://localhost:8080/"
        },
        "id": "c68rTLmbJlPH",
        "outputId": "5acdf49e-5195-4aa3-83f6-5fed93f32263"
      },
      "execution_count": 6,
      "outputs": [
        {
          "output_type": "stream",
          "name": "stdout",
          "text": [
            "Kernels compiled successfully!\n"
          ]
        }
      ]
    },
    {
      "cell_type": "code",
      "source": [],
      "metadata": {
        "id": "-hYOAiRCPA5_"
      },
      "execution_count": null,
      "outputs": []
    }
  ]
}