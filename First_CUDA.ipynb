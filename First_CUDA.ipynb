{
  "nbformat": 4,
  "nbformat_minor": 0,
  "metadata": {
    "colab": {
      "provenance": [],
      "gpuType": "T4",
      "generative_ai_disabled": true,
      "authorship_tag": "ABX9TyN4i8zM3YMT3PGfZs26Lva0",
      "include_colab_link": true
    },
    "kernelspec": {
      "name": "python3",
      "display_name": "Python 3"
    },
    "language_info": {
      "name": "python"
    },
    "accelerator": "GPU"
  },
  "cells": [
    {
      "cell_type": "markdown",
      "metadata": {
        "id": "view-in-github",
        "colab_type": "text"
      },
      "source": [
        "<a href=\"https://colab.research.google.com/github/ced-sys/.py/blob/main/First_CUDA.ipynb\" target=\"_parent\"><img src=\"https://colab.research.google.com/assets/colab-badge.svg\" alt=\"Open In Colab\"/></a>"
      ]
    },
    {
      "cell_type": "markdown",
      "source": [
        "### Nvidia System Management Interface\n",
        "* It's a commnad-line utility that comes with the NVIDIA driver\n",
        "* It queries the GPU driver and prints detailed information about the NVIDIA GPU available to"
      ],
      "metadata": {
        "id": "8V3w1R_QEwi2"
      }
    },
    {
      "cell_type": "code",
      "execution_count": null,
      "metadata": {
        "colab": {
          "base_uri": "https://localhost:8080/"
        },
        "id": "tZcGthQTuJt7",
        "outputId": "3ab45a66-a3d5-458a-9f21-e03590ad9877"
      },
      "outputs": [
        {
          "output_type": "stream",
          "name": "stdout",
          "text": [
            "Sun Oct  5 11:32:14 2025       \n",
            "+-----------------------------------------------------------------------------------------+\n",
            "| NVIDIA-SMI 550.54.15              Driver Version: 550.54.15      CUDA Version: 12.4     |\n",
            "|-----------------------------------------+------------------------+----------------------+\n",
            "| GPU  Name                 Persistence-M | Bus-Id          Disp.A | Volatile Uncorr. ECC |\n",
            "| Fan  Temp   Perf          Pwr:Usage/Cap |           Memory-Usage | GPU-Util  Compute M. |\n",
            "|                                         |                        |               MIG M. |\n",
            "|=========================================+========================+======================|\n",
            "|   0  Tesla T4                       Off |   00000000:00:04.0 Off |                    0 |\n",
            "| N/A   46C    P8             10W /   70W |       0MiB /  15360MiB |      0%      Default |\n",
            "|                                         |                        |                  N/A |\n",
            "+-----------------------------------------+------------------------+----------------------+\n",
            "                                                                                         \n",
            "+-----------------------------------------------------------------------------------------+\n",
            "| Processes:                                                                              |\n",
            "|  GPU   GI   CI        PID   Type   Process name                              GPU Memory |\n",
            "|        ID   ID                                                               Usage      |\n",
            "|=========================================================================================|\n",
            "|  No running processes found                                                             |\n",
            "+-----------------------------------------------------------------------------------------+\n"
          ]
        }
      ],
      "source": [
        "!nvidia-smi"
      ]
    },
    {
      "cell_type": "markdown",
      "source": [
        "#### Output\n",
        "`Driver Version: 550.54.15\n",
        "CUDA Version: 12.4`\n",
        "* The GPU Driver is installed in Colab is version 550.54.15\n",
        "* The CUDA runtime version supported is 12.4-> that's the toolkit compiling against.\n",
        "\n",
        "`0 Tesla T4`\n",
        "* Colab assigned NVIDIA Tesla T4 GPU.\n",
        "* Specs:\n",
        "  * Turing architecture (same family as the RTX 2000 Series).\n",
        "  * 16GB VRAM (15360MiB)\n",
        "  * Optimized for inference and general CUDA work, not the absolute fastest.\n",
        "* Solid GPU for CUDA experiments, ML training, and parallel programming.\n",
        "\n",
        "`Temp: 50C Power: 9W/70W Memory Usage: 0 MiB/15360 MiB GPU Util: 0%`\n",
        "* Temperature: 50C -> normal idle temp.\n",
        "* Power Draw: Only 9W out 70W max ->Basically idle.\n",
        "* Memory usage: 0/15360 MiB-> Nothing loaded yet.\n",
        "* GPU Utilization: 0% -> not doing any computation yet.\n",
        "\n",
        "** GPU is completely free and ready to launch CUDA kernels.**\n",
        "\n",
        "`No running processes found`\n",
        "* Means no program is currently using the GPU.\n"
      ],
      "metadata": {
        "id": "bIXQSPiaFkxc"
      }
    },
    {
      "cell_type": "markdown",
      "source": [
        "### !pip install\n",
        "* pycuda:\n",
        "  * Python wrapper for CUDA\n",
        "  * Lets you write CUDA kernels and run them directly from Python.\n",
        "  * Very useful, because you don't have to write full `.cu` files or use `nvcc` manually.\n",
        "* pillow:\n",
        "  * Imaging library in Python.\n",
        "  * Let's you work with images (open, modify, save). Often used to visualize GPU-processed data.\n",
        "\n",
        "* numpy:\n",
        "  * Fundamental package for numerical arrays in Python.\n",
        "  * Often pass `numpy` arrays to/from CUDA kernels.\n",
        "\n",
        "* matplotlib:\n",
        "  * Plotting library.\n",
        "  * Using for visualizing results of CUDA computations (e.g., images, raphs, performance plots)."
      ],
      "metadata": {
        "id": "nLueGmsKLyhH"
      }
    },
    {
      "cell_type": "code",
      "source": [
        "!pip install pycuda pillow numpy matplotlib"
      ],
      "metadata": {
        "colab": {
          "base_uri": "https://localhost:8080/"
        },
        "id": "0256nZuau_3c",
        "outputId": "79a41a7d-c8f4-48a4-92f0-5d60746aea1c"
      },
      "execution_count": null,
      "outputs": [
        {
          "output_type": "stream",
          "name": "stdout",
          "text": [
            "Collecting pycuda\n",
            "  Downloading pycuda-2025.1.2.tar.gz (1.7 MB)\n",
            "\u001b[2K     \u001b[90m━━━━━━━━━━━━━━━━━━━━━━━━━━━━━━━━━━━━━━━━\u001b[0m \u001b[32m1.7/1.7 MB\u001b[0m \u001b[31m17.9 MB/s\u001b[0m eta \u001b[36m0:00:00\u001b[0m\n",
            "\u001b[?25h  Installing build dependencies ... \u001b[?25l\u001b[?25hdone\n",
            "  Getting requirements to build wheel ... \u001b[?25l\u001b[?25hdone\n",
            "  Preparing metadata (pyproject.toml) ... \u001b[?25l\u001b[?25hdone\n",
            "Requirement already satisfied: pillow in /usr/local/lib/python3.12/dist-packages (11.3.0)\n",
            "Requirement already satisfied: numpy in /usr/local/lib/python3.12/dist-packages (2.0.2)\n",
            "Requirement already satisfied: matplotlib in /usr/local/lib/python3.12/dist-packages (3.10.0)\n",
            "Collecting pytools>=2011.2 (from pycuda)\n",
            "  Downloading pytools-2025.2.4-py3-none-any.whl.metadata (2.9 kB)\n",
            "Requirement already satisfied: platformdirs>=2.2.0 in /usr/local/lib/python3.12/dist-packages (from pycuda) (4.4.0)\n",
            "Requirement already satisfied: mako in /usr/local/lib/python3.12/dist-packages (from pycuda) (1.3.10)\n",
            "Requirement already satisfied: contourpy>=1.0.1 in /usr/local/lib/python3.12/dist-packages (from matplotlib) (1.3.3)\n",
            "Requirement already satisfied: cycler>=0.10 in /usr/local/lib/python3.12/dist-packages (from matplotlib) (0.12.1)\n",
            "Requirement already satisfied: fonttools>=4.22.0 in /usr/local/lib/python3.12/dist-packages (from matplotlib) (4.60.1)\n",
            "Requirement already satisfied: kiwisolver>=1.3.1 in /usr/local/lib/python3.12/dist-packages (from matplotlib) (1.4.9)\n",
            "Requirement already satisfied: packaging>=20.0 in /usr/local/lib/python3.12/dist-packages (from matplotlib) (25.0)\n",
            "Requirement already satisfied: pyparsing>=2.3.1 in /usr/local/lib/python3.12/dist-packages (from matplotlib) (3.2.5)\n",
            "Requirement already satisfied: python-dateutil>=2.7 in /usr/local/lib/python3.12/dist-packages (from matplotlib) (2.9.0.post0)\n",
            "Requirement already satisfied: six>=1.5 in /usr/local/lib/python3.12/dist-packages (from python-dateutil>=2.7->matplotlib) (1.17.0)\n",
            "Collecting siphash24>=1.6 (from pytools>=2011.2->pycuda)\n",
            "  Downloading siphash24-1.8-cp312-cp312-manylinux2014_x86_64.manylinux_2_17_x86_64.manylinux_2_28_x86_64.whl.metadata (3.2 kB)\n",
            "Requirement already satisfied: typing-extensions>=4.5 in /usr/local/lib/python3.12/dist-packages (from pytools>=2011.2->pycuda) (4.15.0)\n",
            "Requirement already satisfied: MarkupSafe>=0.9.2 in /usr/local/lib/python3.12/dist-packages (from mako->pycuda) (3.0.3)\n",
            "Downloading pytools-2025.2.4-py3-none-any.whl (99 kB)\n",
            "\u001b[2K   \u001b[90m━━━━━━━━━━━━━━━━━━━━━━━━━━━━━━━━━━━━━━━━\u001b[0m \u001b[32m99.4/99.4 kB\u001b[0m \u001b[31m10.4 MB/s\u001b[0m eta \u001b[36m0:00:00\u001b[0m\n",
            "\u001b[?25hDownloading siphash24-1.8-cp312-cp312-manylinux2014_x86_64.manylinux_2_17_x86_64.manylinux_2_28_x86_64.whl (103 kB)\n",
            "\u001b[2K   \u001b[90m━━━━━━━━━━━━━━━━━━━━━━━━━━━━━━━━━━━━━━━━\u001b[0m \u001b[32m103.2/103.2 kB\u001b[0m \u001b[31m11.6 MB/s\u001b[0m eta \u001b[36m0:00:00\u001b[0m\n",
            "\u001b[?25hBuilding wheels for collected packages: pycuda\n",
            "  Building wheel for pycuda (pyproject.toml) ... \u001b[?25l\u001b[?25hdone\n",
            "  Created wheel for pycuda: filename=pycuda-2025.1.2-cp312-cp312-linux_x86_64.whl size=659050 sha256=72de102f9e5573b5e329cbea51cd9c7d629088bee7a81b34ab5393065e9974e0\n",
            "  Stored in directory: /root/.cache/pip/wheels/d5/36/f3/ac5f09d768cad3fa15d5a3449bdfe65c3de58e69d036c73228\n",
            "Successfully built pycuda\n",
            "Installing collected packages: siphash24, pytools, pycuda\n",
            "Successfully installed pycuda-2025.1.2 pytools-2025.2.4 siphash24-1.8\n"
          ]
        }
      ]
    },
    {
      "cell_type": "markdown",
      "source": [
        "### Import libraries\n",
        "1. `import pycuda.driver as cuda`\n",
        "* Brings in the low-level CUDA driver API (memory allocation, kernel launching, etc).\n",
        "* Use of `cuda.mem_alloc`, `cuda.memcpy_htod`, `cuda.memcpy_dtoh`etc. to manage GPU memory.\n",
        "\n",
        "2. `import pycuda.autoinit`\n",
        "* Automatically initializes CUDA context on the first available GPU.\n",
        "* Without this, you'd have to manually call `cuda.init()` and create a context.\n",
        "* This just makes life easier.\n",
        "\n",
        "3. `from pycuda.compiler import SourceModule`\n",
        "* Allows you to compile CUDA C kernels written as ras strings inside Python.\n",
        "* `mod.get_function(\"add\")` would then return a callble GPU kernel.\n",
        "\n",
        "4. `import numpy as np`\n",
        "* Used to create and manipulate arrays (host-side, CPU memory).\n",
        "* You'll often copy these arrays to/from the GPU.\n",
        "\n",
        "5. `from PIL import Image`\n",
        "* From the Pillow library -> lets you load, save and manipulate images.\n",
        "* Handy if you want to pass image data into CUDA kernels (for processing, filtering, etc).\n",
        "\n",
        "6. `import matplotlibpypot as plt`\n",
        "* Visualization library.\n",
        "* You'll use it to plot graphs or display processed images after running CUDA kernels.\n",
        "\n",
        "7. `import time`\n",
        "* Used for timing execution.\n",
        "* Important in CUDA, since you'll want to measure how fast the gpU runs compared to the CPU."
      ],
      "metadata": {
        "id": "i1B37XfaOK6d"
      }
    },
    {
      "cell_type": "code",
      "source": [
        "import pycuda.driver as cuda\n",
        "import pycuda.autoinit\n",
        "from pycuda.compiler import SourceModule\n",
        "import numpy as np\n",
        "from PIL import Image\n",
        "import matplotlib.pyplot as plt\n",
        "import time"
      ],
      "metadata": {
        "id": "zVHFFxeCvLZl"
      },
      "execution_count": null,
      "outputs": []
    },
    {
      "cell_type": "markdown",
      "source": [
        "### Original Image\n",
        "1. `width, height=800, 600`\n",
        "* Defines the size of the image (800 pixels widex 600 pixels tall).\n",
        "\n",
        "2.`np.random.randint(0, 256,(height, width, 3),dtype=np.uint8)`\n",
        "* Creates a random RGB image of shape `(600, 800, 3)`.\n",
        "* Each pixel has 3 values-> Red, Green, Blue, each between 0-255 (`dtype=np.uint8` ensures valid image format).\n",
        "* Initially, the image is just random noise.\n",
        "\n",
        "3. Nested loop `for i in range height: for j in range(width):`\n",
        "* Iterates over eac pixel `(i, j)` in the image.\n",
        "* Then, it overwrites the random values with a gradient pattern:\n",
        "  * Red channel(`img_array[i, j, 0]`):\n",
        "  increases from 0->255 top to bottom (depends on row index `i`).\n",
        "  * Green channel (`img_array[i, j, 1]`):increases from 0->255 left to right.\n",
        "  (depends on column index `j`).\n",
        "  * Blue channel (`img_array[i, j, 2]`):\n",
        "  fixed at 128 everywhere.\n",
        "\n",
        "* This produces a smoot red-green gradient wit h a constant bluish tint.\n",
        "\n",
        "4. **Plotting with Matplotlib**\n",
        "* `plt.imshow(img_array)` displays the generated image.\n",
        "* `plt.axis('off')` hides te x-y axes for a clean view.\n",
        "* `plt.show()` renders from the figure"
      ],
      "metadata": {
        "id": "UERjKu9wriv0"
      }
    },
    {
      "cell_type": "code",
      "source": [
        "#Create a simple test image\n",
        "width, height=800, 600\n",
        "img_array=np.random.randint(0, 256, (height, width, 3), dtype=np.uint8)\n",
        "\n",
        "#Make it more interesting, add some patterns\n",
        "for i in range(height):\n",
        "  for j in range(width):\n",
        "    img_array[i, j, 0]=(i*255)//height #Red Gradient\n",
        "    img_array[i, j, 1]=(j*255)//width #Green Gradient\n",
        "    img_array[i, j, 2]=128 #Constant blue\n",
        "\n",
        "#Display it\n",
        "plt.figure(figsize=(10, 8))\n",
        "plt.imshow(img_array)\n",
        "plt.title(\"Original Image\")\n",
        "plt.axis('off')\n",
        "plt.show()"
      ],
      "metadata": {
        "colab": {
          "base_uri": "https://localhost:8080/",
          "height": 504
        },
        "id": "MQt6-EZwwGSa",
        "outputId": "46871d91-c9ce-405f-ca85-0c3541815755"
      },
      "execution_count": null,
      "outputs": [
        {
          "output_type": "display_data",
          "data": {
            "text/plain": [
              "<Figure size 1000x800 with 1 Axes>"
            ],
            "image/png": "[encoded data removed]"
          },
          "metadata": {}
        }
      ]
    },
    {
      "cell_type": "markdown",
      "source": [
        "### Perform Box Blur filter\n",
        "\n",
        "1. **CUDA Kernel definition**\n",
        "\n",
        "`__global__ void blur_kernel(unsigned char *input, unsigned char *output, int width, in height, int channels) `\n",
        "\n",
        "* `__global__`: means tis function runs on te GPU but is called from the CPU (host).\n",
        "* It takes pointers to:\n",
        "  * `input`: the image data (unsigned char array).\n",
        "  * `output`: array where blurred pixels will be stored.\n",
        "  * `width`, `height`, `channels`: image dimensions (e.g., 800x600x3).\n",
        "\n",
        "2. **Determining Pixel Coordinates**\n",
        "\n",
        "`int x=blockIdx.x * blockDim.x+threadIdx.x;`\n",
        "\n",
        "`int y=blockIdx.x * blockDim.y+threadIdx.y;`\n",
        "* Each CUDA thread corresponds to one pixel.\n",
        "* `threadIdx` -> thread's index inside the block.\n",
        "\n",
        "* `blockIdx`-> block's index inside te grid.\n",
        "* The combination gives you the pixel coordinate `(x, y)` in the image.\n",
        "\n",
        "**Each GPU thread will process exactly one pixel in the output image**\n",
        "\n",
        "3. **Boundary check**\n",
        "`if (x>=width || y>=height) return;`\n",
        "\n",
        "* Ensures the thread doesn't go outside the image boundaries (which would cause memory access errors).\n",
        "\n",
        "4. **Blur radius**\n",
        "` int radius=5;`\n",
        "* Defines the size of the 'window' used to average surrounding pixels.\n",
        "* A radius of `5` means an 11x11 box (from `-5` to `+5`).\n",
        "\n",
        "5 **Loop over channels**\n",
        " ` for(int c=0; c<channels; c++){`\n",
        " * Runs the blur separately for eac color channel (Red, Green, Blue).\n",
        "\n",
        "6. **Compute Average of neighbouring pixels**\n",
        "` for (int dy=-radius; dy<=radius; dy++){\n",
        "    for (int dx=-radius; dx<=radius; dx++){\n",
        "      int nx=x+dx;\n",
        "      int ny=y+dy;\n",
        "      if(nx>=0 && nx <width && ny >=0 && ny<height) {\n",
        "        int idx=(ny*width +nx ) *channels+c;\n",
        "        sum+= input[idx];\n",
        "        count++;\n",
        "      }\n",
        "}\n",
        " `\n",
        " * For every pixel `(x, y)`:\n",
        "    * The kernel checks all nearby pixels `(nx, ny)` in an 11x11 window.\n",
        "    * Adds their vaues to `sum`.\n",
        "    * Keeps count of how many valid pixels were added (to handle edges).\n",
        "\n",
        "7. **Write the Blurred pixel**\n",
        "`int out_idx=(y* width +x)* channels + c;`\n",
        "`output[out_idx]=(unsigned char)(sum/count);`\n",
        "* Takes the average intensity of the surrounding pixels and writes it to the output buffer.\n",
        "* `sum/count` gives the average brightness for that channel.\n",
        "\n",
        "8. **Compiling the Kernel**\n",
        "`mod=SourceModule(cuda_kernel_code)`\n",
        "`blur_kernel=mod.get_function(\"blur_kernel\")`\n",
        "\n",
        "* `SourceModule` compiles the C-style CUDA code string using NVIDIA's NVCC compiler in the background.\n",
        "* `get_function(\"blur_kernel\")` retrieves a callable GPU function you can launcg from Python.\n",
        "\n",
        "**Summary**\n",
        "* Kernel purpose: Apply a box blur to an RGB image.\n",
        "\n",
        "* Threads: One per pixel\n",
        "\n",
        "* Radius: 5(11x11)\n",
        "\n",
        "* Output: Blurred image\n",
        "\n",
        "* Compilation: Done by PyCUDA's `SourceModule`."
      ],
      "metadata": {
        "id": "ONCTT_E5wsx4"
      }
    },
    {
      "cell_type": "code",
      "source": [
        "cuda_kernel_code=\"\"\"\n",
        "__global__ void blur_kernel(unsigned char *input, unsigned char *output,\n",
        "int width, int height, int channels)\n",
        "\n",
        "{\n",
        "  //Calculate which pixel this thread should process\n",
        "  int x=blockIdx.x * blockDim.x + threadIdx.x;\n",
        "  int y=blockIdx.y * blockDim.y + threadIdx.y;\n",
        "\n",
        "  //Make sure we're inside the image\n",
        "  if (x >= width || y>=height) return;\n",
        "\n",
        "  //Blur radius\n",
        "  int radius=5;\n",
        "\n",
        "  //For each color channel (RGB)\n",
        "  for (int c=0; c<channels; c++){\n",
        "    float sum=0.0f;\n",
        "    int count=0;\n",
        "\n",
        "    //Average pixels in a square around this pixel\n",
        "    for (int dy=-radius; dy<=radius; dy++){\n",
        "      for (int dx=-radius; dx<=radius; dx++){\n",
        "        int nx=x+dx;\n",
        "        int ny=y+dy;\n",
        "\n",
        "        //check bounds\n",
        "        if (nx >=0 && nx <width && ny >=0 &&ny <height){\n",
        "          int idx=(ny * width+nx)*channels +c;\n",
        "          sum+=input[idx];\n",
        "          count++;\n",
        "        }\n",
        "      }\n",
        "    }\n",
        "\n",
        "    //Write the average to output\n",
        "    int out_idx=(y*width+x)* channels + c;\n",
        "    output[out_idx]=(unsigned char)(sum/count);\n",
        "  }\n",
        "}\n",
        "\"\"\"\n",
        "\n",
        "#Compile kernel\n",
        "mod=SourceModule(cuda_kernel_code)\n",
        "blur_kernel=mod.get_function(\"blur_kernel\")"
      ],
      "metadata": {
        "id": "gggkm3W5xHLo"
      },
      "execution_count": null,
      "outputs": []
    },
    {
      "cell_type": "markdown",
      "source": [
        "### Execution and Visualization Cell\n",
        "1. **Flattening the Image**\n",
        "* The image (`img_array`) is a 3D NumPy array of shape `(height, width, 3)`.\n",
        "* CUDA kernels operate on 1D contiguous memory, so `.flatten()` reshapes it to a 1D array.\n",
        "* `output` is an empty buffer (same size) for storing the blurred image returnes from the GPU.\n",
        "\n",
        "2. **Allocating Memory on the GPU**\n",
        "* `cuda.mem_alloc()` reserves GPU memory for both input and output arrays.\n",
        "* `.nbytes` gives the total number of bytes to allocate (`width x height x 3` bytes).\n",
        "* These two lines correspong to `cudaMalloc()` in standard CUDA C++.\n",
        "\n",
        "3. **Copying Data from CPU->GPU**\n",
        "* `htod`= Host to Device\n",
        "* Sends the flattened NumPy array from CPU memory (host) to GPU memory device.\n",
        "* This is a necessary step because the kernel can't access CPU memory directly.\n",
        "\n",
        "4. **Defining thread and block configuration**\n",
        "CUDA threads are organised in:\n",
        "  * Blocks (small groups of threads).\n",
        "  * Grids (collection of blocks).\n",
        "Here:\n",
        "  * Each block contains `16 x 16=256` threads.\n",
        "  * The grid is large enough to cover all `width x height` pixels.\n",
        "  * The rounding formula ensures full coverage even if image dimensions don't divide evenly.\n",
        "\n",
        "5. **Printing Thread Info (for sanity check)**\n",
        "* Helps verify that every pixel has a corresponding GPU thread.\n",
        "* Total threads= width x height (each pixel processed by one thread).\n",
        "\n",
        "6. **Launching the CUDA kernel**\n",
        "* The kernel is called like a regular Python function, but it runs on the GPU.\n",
        "* You pass GPU pointers and image dimensions.\n",
        "* The `block=` and `grid=` arguments tell CUDA how to distribute the work.\n",
        "* `cuda.context.synchronize()` waits for the GPU to finish before continuing, otherwise, training would be inaccurate.\n",
        "* The rime measured here (`gpu_time`) is pure GPU execution time.\n",
        "\n",
        "7. **Copying data GPU->CPU**\n",
        "* `dtoh`=Device to host.\n",
        "* Copies the processed (blurred) image back from GPU memory to the CPU for visualization.\n",
        "\n",
        "8. **Reshaping and displaying**\n",
        "* Converts the 1D output buffer back to a 3D `(H, W, 3)` RGB array.\n",
        "* Displays the blurred image with Matplotlib.\n",
        "* The title shows the measured GPU runtime (in milliseconds).\n",
        "\n",
        "**Under the Hood**\n",
        "* Each CUDA thread runs the blur logic for one pixel.\n",
        "* Thousands of threads execute simultaneously, each averaging surrounding pixel values.\n",
        "* The GPU's massive parallelis makes it much faster than running nested loops on the CPU."
      ],
      "metadata": {
        "id": "6b2KDyU2-nCv"
      }
    },
    {
      "cell_type": "code",
      "source": [
        "#Prepare the Image data\n",
        "img_flat=img_array.flatten().astype(np.uint8)\n",
        "output=np.zeros_like(img_flat)\n",
        "\n",
        "#Allocate GPU memory\n",
        "img_gpu=cuda.mem_alloc(img_flat.nbytes)\n",
        "output_gpu=cuda.mem_alloc(output.nbytes)\n",
        "\n",
        "#Copy input data to GPU\n",
        "cuda.memcpy_htod(img_gpu, img_flat)\n",
        "\n",
        "#Define thread block and grid sizes\n",
        "threads_per_block=(16, 16, 1) # 256 threads per block\n",
        "blocks_per_grid=(\n",
        "    (width+threads_per_block[0]-1)//threads_per_block[0],\n",
        "    (height+threads_per_block[1]-1)// threads_per_block[1]\n",
        ")\n",
        "\n",
        "print(f\"Grid size: {blocks_per_grid}\")\n",
        "print(f\"Block size: {threads_per_block}\")\n",
        "print(f\"Total threads: {blocks_per_grid[0]* blocks_per_grid[1]*threads_per_block[0]*threads_per_block[1]}\")\n",
        "\n",
        "#Time the GPU execution\n",
        "start_time=time.time()\n",
        "blur_kernel(\n",
        "    img_gpu, output_gpu,\n",
        "    np.int32(width), np.int32(height), np.int32(3),\n",
        "    block=threads_per_block,\n",
        "    grid=blocks_per_grid\n",
        ")\n",
        "cuda.Context.synchronize() #Wait for GPU to finish\n",
        "gpu_time=time.time()-start_time\n",
        "\n",
        "#Copy result back from GPU\n",
        "cuda.memcpy_dtoh(output, output_gpu)\n",
        "\n",
        "print(f\"GPU time: {gpu_time*100:.2f} ms\")\n",
        "\n",
        "#Reshape and display\n",
        "blurred_gpu=output.reshape(height, width, 3)\n",
        "\n",
        "plt.figure(figsize=(10, 8))\n",
        "plt.imshow(blurred_gpu)\n",
        "plt.title(f\"GPU Blurred Image ({gpu_time*1000:.2f} ms)\")\n",
        "plt.axis('off')\n",
        "plt.show()"
      ],
      "metadata": {
        "colab": {
          "base_uri": "https://localhost:8080/",
          "height": 574
        },
        "id": "MHAr-iqMzoHR",
        "outputId": "d9d50491-1e7e-46c6-c4c0-117b86667363"
      },
      "execution_count": null,
      "outputs": [
        {
          "output_type": "stream",
          "name": "stdout",
          "text": [
            "Grid size: (50, 38)\n",
            "Block size: (16, 16, 1)\n",
            "Total threads: 486400\n",
            "GPU time: 0.34 ms\n"
          ]
        },
        {
          "output_type": "display_data",
          "data": {
            "text/plain": [
              "<Figure size 1000x800 with 1 Axes>"
            ],
            "image/png": "[encoded data removed]"
          },
          "metadata": {}
        }
      ]
    },
    {
      "cell_type": "markdown",
      "source": [
        "### CPU based blur\n",
        "This part of the script defines and runs a CPU based blur to compare performance against the CUDA GPU kernel.\n",
        "\n",
        "1. **Defines a blur function for the CPU**\n",
        "(`blur_cpu`).\n",
        "* Uses a naive nested loop over each pixel and color channel.\n",
        "* Applies a blur radius of `5` (same as GPU kernel).\n",
        "* Averages neighbouring pixel values.\n",
        "* Its simple but computationally expensive(`O(n*r^2)`) complexity.\n",
        "\n",
        "2. **Runs the CPU blur**\n",
        "* Measures execution time with `time.time()`.\n",
        "* prints timing and calculates speedup vs. the GPU version.\n",
        "\n",
        "3. **Displays results**\n",
        "* Three side-by-side images:\n",
        "  * Original images\n",
        "  * CPU blurred image with runtime.\n",
        "  * GPU blurred image with runtim."
      ],
      "metadata": {
        "id": "Na4CaAZ4EEGO"
      }
    },
    {
      "cell_type": "code",
      "source": [
        "def blur_cpu(img):\n",
        "  \"\"\"Simple CPU blur for comparison\"\"\"\n",
        "  height, width, channels=img.shape\n",
        "  output=np.zeros_like(img)\n",
        "  radius=5\n",
        "\n",
        "  for y in range(height):\n",
        "    for x in range(width):\n",
        "      for c in range(channels):\n",
        "        sum_val=0.0\n",
        "        count=0\n",
        "\n",
        "        for dy in range(-radius, radius+1):\n",
        "          for dx in range(-radius, radius+1):\n",
        "            nx, ny=x+dx, y+dy\n",
        "            if 0 <=nx<width and 0<= ny< height:\n",
        "              sum_val+=img[ny, nx, c]\n",
        "              count+=1\n",
        "\n",
        "        output[y, x, c]=sum_val/ count\n",
        "\n",
        "  return output.astype(np.uint8)\n",
        "\n",
        "#Time CPU version\n",
        "start_time=time.time()\n",
        "blurred_cpu=blur_cpu(img_array)\n",
        "cpu_time=time.time()-start_time\n",
        "\n",
        "print(f\"CPU time: {cpu_time*1000:.2f} ms\")\n",
        "print(f\"Speedup: {cpu_time/gpu_time:2f}x faster on GPU!\")\n",
        "\n",
        "#Display comparison\n",
        "fig, axes=plt.subplots(1, 3, figsize=(18, 6))\n",
        "axes[0].imshow(img_array)\n",
        "axes[0].set_title(\"Original\")\n",
        "axes[0].axis('off')\n",
        "\n",
        "axes[1].imshow(blurred_cpu)\n",
        "axes[1].set_title(f\"CPU Blurred ({cpu_time*1000:.2f} ms)\")\n",
        "axes[1].axis('off')\n",
        "\n",
        "axes[2].imshow(blurred_gpu)\n",
        "axes[2].set_title(f\"GPU Blurred ({gpu_time*1000:.2f} ms)\")\n",
        "axes[2].axis('off')\n",
        "\n",
        "plt.tight_layout()\n",
        "plt.show()"
      ],
      "metadata": {
        "colab": {
          "base_uri": "https://localhost:8080/",
          "height": 217
        },
        "id": "ZkfYmjzN12Nm",
        "outputId": "bc72191e-973e-4dee-d2c6-7798331dcbfe"
      },
      "execution_count": null,
      "outputs": [
        {
          "output_type": "stream",
          "name": "stdout",
          "text": [
            "CPU time: 82379.13 ms\n",
            "Speedup: 24468.741236x faster on GPU!\n"
          ]
        },
        {
          "output_type": "display_data",
          "data": {
            "text/plain": [
              "<Figure size 1800x600 with 3 Axes>"
            ],
            "image/png": "[encoded data removed]"
          },
          "metadata": {}
        }
      ]
    }
  ]
}