{
  "nbformat": 4,
  "nbformat_minor": 0,
  "metadata": {
    "colab": {
      "provenance": [],
      "gpuType": "T4",
      "authorship_tag": "ABX9TyPuwtr2gyaXyGIOhTa3fgB0",
      "include_colab_link": true
    },
    "kernelspec": {
      "name": "python3",
      "display_name": "Python 3"
    },
    "language_info": {
      "name": "python"
    },
    "accelerator": "GPU"
  },
  "cells": [
    {
      "cell_type": "markdown",
      "metadata": {
        "id": "view-in-github",
        "colab_type": "text"
      },
      "source": [
        "<a href=\"https://colab.research.google.com/github/ced-sys/.py/blob/main/Untitled13.ipynb\" target=\"_parent\"><img src=\"https://colab.research.google.com/assets/colab-badge.svg\" alt=\"Open In Colab\"/></a>"
      ]
    },
    {
      "cell_type": "code",
      "execution_count": 1,
      "metadata": {
        "colab": {
          "base_uri": "https://localhost:8080/"
        },
        "id": "tZcGthQTuJt7",
        "outputId": "5405f41b-bf67-4e6f-f87d-7f8d18f655c9"
      },
      "outputs": [
        {
          "output_type": "stream",
          "name": "stdout",
          "text": [
            "Sat Oct  4 05:40:03 2025       \n",
            "+-----------------------------------------------------------------------------------------+\n",
            "| NVIDIA-SMI 550.54.15              Driver Version: 550.54.15      CUDA Version: 12.4     |\n",
            "|-----------------------------------------+------------------------+----------------------+\n",
            "| GPU  Name                 Persistence-M | Bus-Id          Disp.A | Volatile Uncorr. ECC |\n",
            "| Fan  Temp   Perf          Pwr:Usage/Cap |           Memory-Usage | GPU-Util  Compute M. |\n",
            "|                                         |                        |               MIG M. |\n",
            "|=========================================+========================+======================|\n",
            "|   0  Tesla T4                       Off |   00000000:00:04.0 Off |                    0 |\n",
            "| N/A   50C    P8              9W /   70W |       0MiB /  15360MiB |      0%      Default |\n",
            "|                                         |                        |                  N/A |\n",
            "+-----------------------------------------+------------------------+----------------------+\n",
            "                                                                                         \n",
            "+-----------------------------------------------------------------------------------------+\n",
            "| Processes:                                                                              |\n",
            "|  GPU   GI   CI        PID   Type   Process name                              GPU Memory |\n",
            "|        ID   ID                                                               Usage      |\n",
            "|=========================================================================================|\n",
            "|  No running processes found                                                             |\n",
            "+-----------------------------------------------------------------------------------------+\n"
          ]
        }
      ],
      "source": [
        "!nvidia-smi"
      ]
    },
    {
      "cell_type": "code",
      "source": [
        "!pip install pycuda pillow numpy matplotlib"
      ],
      "metadata": {
        "colab": {
          "base_uri": "https://localhost:8080/"
        },
        "id": "0256nZuau_3c",
        "outputId": "80868fa2-40b6-4cce-9e40-5152d809283d"
      },
      "execution_count": 2,
      "outputs": [
        {
          "output_type": "stream",
          "name": "stdout",
          "text": [
            "Collecting pycuda\n",
            "  Downloading pycuda-2025.1.2.tar.gz (1.7 MB)\n",
            "\u001b[?25l     \u001b[90m━━━━━━━━━━━━━━━━━━━━━━━━━━━━━━━━━━━━━━━━\u001b[0m \u001b[32m0.0/1.7 MB\u001b[0m \u001b[31m?\u001b[0m eta \u001b[36m-:--:--\u001b[0m\r\u001b[2K     \u001b[90m━━━━━━━━━━━━━━━━━━━━━━━━━━━━━━━━━━━━━━━━\u001b[0m \u001b[32m1.7/1.7 MB\u001b[0m \u001b[31m74.7 MB/s\u001b[0m eta \u001b[36m0:00:00\u001b[0m\n",
            "\u001b[?25h  Installing build dependencies ... \u001b[?25l\u001b[?25hdone\n",
            "  Getting requirements to build wheel ... \u001b[?25l\u001b[?25hdone\n",
            "  Preparing metadata (pyproject.toml) ... \u001b[?25l\u001b[?25hdone\n",
            "Requirement already satisfied: pillow in /usr/local/lib/python3.12/dist-packages (11.3.0)\n",
            "Requirement already satisfied: numpy in /usr/local/lib/python3.12/dist-packages (2.0.2)\n",
            "Requirement already satisfied: matplotlib in /usr/local/lib/python3.12/dist-packages (3.10.0)\n",
            "Collecting pytools>=2011.2 (from pycuda)\n",
            "  Downloading pytools-2025.2.4-py3-none-any.whl.metadata (2.9 kB)\n",
            "Requirement already satisfied: platformdirs>=2.2.0 in /usr/local/lib/python3.12/dist-packages (from pycuda) (4.4.0)\n",
            "Requirement already satisfied: mako in /usr/local/lib/python3.12/dist-packages (from pycuda) (1.3.10)\n",
            "Requirement already satisfied: contourpy>=1.0.1 in /usr/local/lib/python3.12/dist-packages (from matplotlib) (1.3.3)\n",
            "Requirement already satisfied: cycler>=0.10 in /usr/local/lib/python3.12/dist-packages (from matplotlib) (0.12.1)\n",
            "Requirement already satisfied: fonttools>=4.22.0 in /usr/local/lib/python3.12/dist-packages (from matplotlib) (4.60.1)\n",
            "Requirement already satisfied: kiwisolver>=1.3.1 in /usr/local/lib/python3.12/dist-packages (from matplotlib) (1.4.9)\n",
            "Requirement already satisfied: packaging>=20.0 in /usr/local/lib/python3.12/dist-packages (from matplotlib) (25.0)\n",
            "Requirement already satisfied: pyparsing>=2.3.1 in /usr/local/lib/python3.12/dist-packages (from matplotlib) (3.2.5)\n",
            "Requirement already satisfied: python-dateutil>=2.7 in /usr/local/lib/python3.12/dist-packages (from matplotlib) (2.9.0.post0)\n",
            "Requirement already satisfied: six>=1.5 in /usr/local/lib/python3.12/dist-packages (from python-dateutil>=2.7->matplotlib) (1.17.0)\n",
            "Collecting siphash24>=1.6 (from pytools>=2011.2->pycuda)\n",
            "  Downloading siphash24-1.8-cp312-cp312-manylinux2014_x86_64.manylinux_2_17_x86_64.manylinux_2_28_x86_64.whl.metadata (3.2 kB)\n",
            "Requirement already satisfied: typing-extensions>=4.5 in /usr/local/lib/python3.12/dist-packages (from pytools>=2011.2->pycuda) (4.15.0)\n",
            "Requirement already satisfied: MarkupSafe>=0.9.2 in /usr/local/lib/python3.12/dist-packages (from mako->pycuda) (3.0.3)\n",
            "Downloading pytools-2025.2.4-py3-none-any.whl (99 kB)\n",
            "\u001b[2K   \u001b[90m━━━━━━━━━━━━━━━━━━━━━━━━━━━━━━━━━━━━━━━━\u001b[0m \u001b[32m99.4/99.4 kB\u001b[0m \u001b[31m10.2 MB/s\u001b[0m eta \u001b[36m0:00:00\u001b[0m\n",
            "\u001b[?25hDownloading siphash24-1.8-cp312-cp312-manylinux2014_x86_64.manylinux_2_17_x86_64.manylinux_2_28_x86_64.whl (103 kB)\n",
            "\u001b[2K   \u001b[90m━━━━━━━━━━━━━━━━━━━━━━━━━━━━━━━━━━━━━━━━\u001b[0m \u001b[32m103.2/103.2 kB\u001b[0m \u001b[31m6.6 MB/s\u001b[0m eta \u001b[36m0:00:00\u001b[0m\n",
            "\u001b[?25hBuilding wheels for collected packages: pycuda\n",
            "  Building wheel for pycuda (pyproject.toml) ... \u001b[?25l\u001b[?25hdone\n",
            "  Created wheel for pycuda: filename=pycuda-2025.1.2-cp312-cp312-linux_x86_64.whl size=659050 sha256=65154ad02d8d92d4f3d3e614b5db4c983e1ddd0eb741d181570b5cd9666e52c0\n",
            "  Stored in directory: /root/.cache/pip/wheels/d5/36/f3/ac5f09d768cad3fa15d5a3449bdfe65c3de58e69d036c73228\n",
            "Successfully built pycuda\n",
            "Installing collected packages: siphash24, pytools, pycuda\n",
            "Successfully installed pycuda-2025.1.2 pytools-2025.2.4 siphash24-1.8\n"
          ]
        }
      ]
    },
    {
      "cell_type": "code",
      "source": [
        "import pycuda.driver as cuda\n",
        "import pycuda.autoinit\n",
        "from pycuda.compiler import SourceModule\n",
        "import numpy as np\n",
        "from PIL import Image\n",
        "import matplotlib.pyplot as plt\n",
        "import time"
      ],
      "metadata": {
        "id": "zVHFFxeCvLZl"
      },
      "execution_count": 3,
      "outputs": []
    },
    {
      "cell_type": "code",
      "source": [
        "width, height=800, 600\n",
        "img_array=np.random.randint(0, 256, (height, width, 3), dtype=np.uint8)\n",
        "\n",
        "for i in range(height):\n",
        "  for j in range(width):\n",
        "    img_array[i, j, 0]=(i*255)//height\n",
        "    img_array[i, j, 1]=(j*255)//width\n",
        "    img_array[i, j, 2]=128\n",
        "\n",
        "plt.figure(figsize=(10, 8))\n",
        "plt.imshow(img_array)\n",
        "plt.title(\"Original Image\")\n",
        "plt.axis('off')\n",
        "plt.show()"
      ],
      "metadata": {
        "colab": {
          "base_uri": "https://localhost:8080/",
          "height": 640
        },
        "id": "MQt6-EZwwGSa",
        "outputId": "3057cd77-ea24-484f-f98c-888a73c4e631"
      },
      "execution_count": 4,
      "outputs": [
        {
          "output_type": "display_data",
          "data": {
            "text/plain": [
              "<Figure size 1000x800 with 1 Axes>"
            ],
            "image/png": "[encoded data removed]"
          },
          "metadata": {}
        }
      ]
    },
    {
      "cell_type": "code",
      "source": [
        "cuda_kernel_code=\"\"\"\n",
        "__global__ void blur_kernel(unsigned char *input, unsigned char *output,\n",
        "int width, int height, int channels)\n",
        "\n",
        "{\n",
        "  //Calculate which pixel this thread should process\n",
        "  int x=blockIdx.x * blockDim.x + threadIdx.x;\n",
        "  int y=blockIdx.y * blockDim.y + threadIdx.y;\n",
        "\n",
        "  //Make sure we're inside the image\n",
        "  if (x >= width || y>=height) return;\n",
        "\n",
        "  //Blur radius\n",
        "  int radius=5;\n",
        "\n",
        "  //For each color channel (RGB)\n",
        "  for (int c=0; c<channels; c++){\n",
        "    float sum=0.0f;\n",
        "    int count=0;\n",
        "\n",
        "    //Average pixels in a square around this pixel\n",
        "    for (int dy=-radius; dy<=radius; dy++){\n",
        "      for (int dx=-radius; dx<=radius; dx++){\n",
        "        int nx=x+dx;\n",
        "        int ny=y+dy;\n",
        "\n",
        "        //check bounds\n",
        "        if (nx >=0 && nx <width && ny >=0 &&ny <height){\n",
        "          int idx=(ny * width+nx)*channels +c;\n",
        "          sum+=input[idx];\n",
        "          count++;\n",
        "        }\n",
        "      }\n",
        "    }\n",
        "\n",
        "    //Write the average to output\n",
        "    int out_idx=(y*width+x)* channels + c;\n",
        "    output[out_idx]=(unsigned char)(sum/count);\n",
        "  }\n",
        "}\n",
        "\"\"\"\n",
        "\n",
        "mod=SourceModule(cuda_kernel_code)\n",
        "blur_kernel=mod.get_function(\"blur_kernel\")"
      ],
      "metadata": {
        "id": "gggkm3W5xHLo"
      },
      "execution_count": 5,
      "outputs": []
    },
    {
      "cell_type": "code",
      "source": [
        "img_flat=img_array.flatten().astype(np.uint8)\n",
        "output=np.zeros_like(img_flat)\n",
        "\n",
        "img_gpu=cuda.mem_alloc(img_flat.nbytes)\n",
        "output_gpu=cuda.mem_alloc(output.nbytes)\n",
        "\n",
        "cuda.memcpy_htod(img_gpu, img_flat)\n",
        "\n",
        "threads_per_block=(16, 16, 1) # Added z-dimension\n",
        "blocks_per_grid=(\n",
        "    (width+threads_per_block[0]-1)//threads_per_block[0],\n",
        "    (height+threads_per_block[1]-1)// threads_per_block[1]\n",
        ")\n",
        "\n",
        "print(f\"Grid size: {blocks_per_grid}\")\n",
        "print(f\"Block size: {threads_per_block}\")\n",
        "print(f\"Total threads: {blocks_per_grid[0]* blocks_per_grid[1]*threads_per_block[0]*threads_per_block[1]}\")\n",
        "\n",
        "start_time=time.time()\n",
        "blur_kernel(\n",
        "    img_gpu, output_gpu,\n",
        "    np.int32(width), np.int32(height), np.int32(3),\n",
        "    block=threads_per_block,\n",
        "    grid=blocks_per_grid\n",
        ")\n",
        "cuda.Context.synchronize()\n",
        "gpu_time=time.time()-start_time\n",
        "\n",
        "cuda.memcpy_dtoh(output, output_gpu)\n",
        "\n",
        "print(f\"GPU time: {gpu_time*100:.2f} ms\")\n",
        "\n",
        "blurred_gpu=output.reshape(height, width, 3)\n",
        "\n",
        "plt.figure(figsize=(10, 8))\n",
        "plt.imshow(blurred_gpu)\n",
        "plt.title(f\"GPU Blurred Image ({gpu_time*1000:.2f} ms)\")\n",
        "plt.axis('off')\n",
        "plt.show()"
      ],
      "metadata": {
        "colab": {
          "base_uri": "https://localhost:8080/",
          "height": 687
        },
        "id": "MHAr-iqMzoHR",
        "outputId": "50f955c3-085e-4768-84e6-a51ec2431fc9"
      },
      "execution_count": 7,
      "outputs": [
        {
          "output_type": "stream",
          "name": "stdout",
          "text": [
            "Grid size: (50, 38)\n",
            "Block size: (16, 16, 1)\n",
            "Total threads: 486400\n",
            "GPU time: 0.37 ms\n"
          ]
        },
        {
          "output_type": "display_data",
          "data": {
            "text/plain": [
              "<Figure size 1000x800 with 1 Axes>"
            ],
            "image/png": "[encoded data removed]"
          },
          "metadata": {}
        }
      ]
    },
    {
      "cell_type": "code",
      "source": [
        "def blur_cpu(img):\n",
        "  \"\"\"Simple CPU blur for comparison\"\"\"\n",
        "  height, width, channels=img.shape\n",
        "  output=np.zeros_like(img)\n",
        "  radius=5\n",
        "\n",
        "  for y in range(height):\n",
        "    for x in range(width):\n",
        "      for c in range(channels):\n",
        "        sum_val=0.0\n",
        "        count=0\n",
        "\n",
        "        for dy in range(-radius, radius+1):\n",
        "          for dx in range(-radius, radius+1):\n",
        "            nx, ny=x+dx, y+dy\n",
        "            if 0 <=nx<width and 0<= ny< height:\n",
        "              sum_val+=img[ny, nx, c]\n",
        "              count+=1\n",
        "\n",
        "        output[y, x, c]=sum_val/ count\n",
        "\n",
        "  return output.astype(np.uint8)\n",
        "\n",
        "start_time=time.time()\n",
        "blurred_cpu=blur_cpu(img_array)\n",
        "cpu_time=time.time()-start_time\n",
        "\n",
        "print(f\"CPU time: {cpu_time*1000:.2f} ms\")\n",
        "print(f\"Speedup: {cpu_time/gpu_time:2f}x faster on GPU!\")\n",
        "\n",
        "fig, axes=plt.subplots(1, 3, figsize=(18, 6))\n",
        "axes[0].imshow(img_array)\n",
        "axes[0].set_title(\"Original\")\n",
        "axes[0].axis('off')\n",
        "\n",
        "axes[1].imshow(blurred_cpu)\n",
        "axes[1].set_title(f\"CPU Blurred ({cpu_time*1000:.2f} ms)\")\n",
        "axes[1].axis('off')\n",
        "\n",
        "axes[2].imshow(blurred_gpu)\n",
        "axes[2].set_title(f\"GPU Blurred ({gpu_time*1000:.2f} ms)\")\n",
        "axes[2].axis('off')\n",
        "\n",
        "plt.tight_layout()\n",
        "plt.show()"
      ],
      "metadata": {
        "colab": {
          "base_uri": "https://localhost:8080/",
          "height": 256
        },
        "id": "ZkfYmjzN12Nm",
        "outputId": "704ddcc6-b266-47f7-f3e5-5f5137736f13"
      },
      "execution_count": 8,
      "outputs": [
        {
          "output_type": "stream",
          "name": "stdout",
          "text": [
            "CPU time: 79817.91 ms\n",
            "Speedup: 21446.545996x faster on GPU!\n"
          ]
        },
        {
          "output_type": "display_data",
          "data": {
            "text/plain": [
              "<Figure size 1800x600 with 3 Axes>"
            ],
            "image/png": "[encoded data removed]"
          },
          "metadata": {}
        }
      ]
    }
  ]
}